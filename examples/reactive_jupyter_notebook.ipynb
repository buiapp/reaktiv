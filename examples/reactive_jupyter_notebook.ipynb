{
 "cells": [
  {
   "cell_type": "markdown",
   "id": "a3136daa",
   "metadata": {},
   "source": [
    "# Reactive Jupyter Notebook with reaktiv\n",
    "\n",
    "This notebook demonstrates how to create reactive cells and visualizations using `reaktiv` library in a standard Jupyter notebook.\n",
    "\n",
    "## Getting Started\n",
    "\n",
    "First, let's install and import the required libraries:"
   ]
  },
  {
   "cell_type": "code",
   "execution_count": 1,
   "id": "53a331f2",
   "metadata": {},
   "outputs": [],
   "source": [
    "# !pip install reaktiv numpy matplotlib pandas seaborn\n",
    "\n",
    "from reaktiv import Signal, Computed, Effect\n",
    "import numpy as np\n",
    "import matplotlib.pyplot as plt\n",
    "from IPython.display import display, clear_output\n",
    "import ipywidgets as widgets\n",
    "\n",
    "# Set matplotlib to inline mode\n",
    "%matplotlib inline"
   ]
  },
  {
   "cell_type": "markdown",
   "id": "8a422c8d",
   "metadata": {},
   "source": [
    "## Example 1: Simple Reactive Plot\n",
    "\n",
    "Let's create a simple reactive plot that updates automatically when parameters change:"
   ]
  },
  {
   "cell_type": "code",
   "execution_count": 2,
   "id": "09f53481",
   "metadata": {},
   "outputs": [],
   "source": [
    "# Create reactive parameters\n",
    "x_min = Signal(-10)\n",
    "x_max = Signal(10)\n",
    "num_points = Signal(100)\n",
    "function_type = Signal(\"sin\")  # \"sin\" or \"cos\"\n",
    "amplitude = Signal(1.0)"
   ]
  },
  {
   "cell_type": "code",
   "execution_count": 3,
   "id": "1bf7d86e",
   "metadata": {},
   "outputs": [],
   "source": [
    "# Create a computed signal for the data\n",
    "def compute_data():\n",
    "    x = np.linspace(x_min(), x_max(), num_points())\n",
    "    \n",
    "    if function_type() == \"sin\":\n",
    "        y = amplitude() * np.sin(x)\n",
    "    else:\n",
    "        y = amplitude() * np.cos(x)\n",
    "    \n",
    "    return x, y\n",
    "\n",
    "plot_data = Computed(compute_data)"
   ]
  },
  {
   "cell_type": "code",
   "execution_count": 4,
   "id": "514affa3",
   "metadata": {},
   "outputs": [
    {
     "data": {
      "application/vnd.jupyter.widget-view+json": {
       "model_id": "5937c33386f3404abad853df19fb4b75",
       "version_major": 2,
       "version_minor": 0
      },
      "text/plain": [
       "Output(layout=Layout(border_bottom='1px solid #ddd', border_left='1px solid #ddd', border_right='1px solid #dd…"
      ]
     },
     "metadata": {},
     "output_type": "display_data"
    }
   ],
   "source": [
    "# Create an output widget for the plot\n",
    "plot1_output = widgets.Output(layout={'height': '400px', 'border': '1px solid #ddd'})\n",
    "\n",
    "# Create a reactive plotting function\n",
    "def plot_reactive_chart():\n",
    "    # Clear only the output widget content, not the whole cell\n",
    "    plot1_output.clear_output(wait=True)\n",
    "    \n",
    "    # Use the output widget context manager to restrict display to the widget\n",
    "    with plot1_output:\n",
    "        x, y = plot_data()\n",
    "        \n",
    "        fig, ax = plt.subplots(figsize=(10, 6))\n",
    "        ax.plot(x, y)\n",
    "        ax.set_title(f\"{function_type().capitalize()} Function with Amplitude {amplitude()}\")\n",
    "        ax.set_xlabel(\"x\")\n",
    "        ax.set_ylabel(\"y\")\n",
    "        ax.grid(True)\n",
    "        ax.set_ylim(-1.5 * amplitude(), 1.5 * amplitude())\n",
    "        plt.show()\n",
    "        \n",
    "        # Print some statistics\n",
    "        print(f\"Function: {function_type()}\")\n",
    "        print(f\"Range: [{x_min()}, {x_max()}]\")\n",
    "        print(f\"Number of points: {num_points()}\")\n",
    "\n",
    "# Display the output widget\n",
    "display(plot1_output)\n",
    "\n",
    "# Create an effect that will automatically re-run when dependencies change\n",
    "chart_effect = Effect(plot_reactive_chart)"
   ]
  },
  {
   "cell_type": "markdown",
   "id": "87aafd8c",
   "metadata": {},
   "source": [
    "Now our chart is displayed above. Let's update some parameters and see the chart update automatically:"
   ]
  },
  {
   "cell_type": "code",
   "execution_count": 5,
   "id": "aa504a9d",
   "metadata": {},
   "outputs": [],
   "source": [
    "# Change the function type - chart updates automatically!\n",
    "function_type.set(\"cos\")"
   ]
  },
  {
   "cell_type": "code",
   "execution_count": 6,
   "id": "fdee8df6",
   "metadata": {},
   "outputs": [],
   "source": [
    "# Change the x range - chart updates automatically!\n",
    "x_min.set(-5)\n",
    "x_max.set(5)"
   ]
  },
  {
   "cell_type": "code",
   "execution_count": 7,
   "id": "07ae395e",
   "metadata": {},
   "outputs": [],
   "source": [
    "# Change the amplitude - chart updates automatically!\n",
    "amplitude.set(2.0)"
   ]
  },
  {
   "cell_type": "markdown",
   "id": "27e0bffa",
   "metadata": {},
   "source": [
    "## Example 2: Interactive Controls with ipywidgets\n",
    "\n",
    "Let's create interactive controls using ipywidgets that connect to our reactive signals:"
   ]
  },
  {
   "cell_type": "code",
   "execution_count": 8,
   "id": "9d7d4820",
   "metadata": {},
   "outputs": [],
   "source": [
    "# Create an output widget for Example 2\n",
    "plot2_output = widgets.Output(layout={'height': '400px', 'border': '1px solid #ddd'})\n",
    "\n",
    "# Create widgets\n",
    "function_dropdown = widgets.Dropdown(\n",
    "    options=[('Sine', 'sin'), ('Cosine', 'cos')],\n",
    "    value=function_type(),\n",
    "    description='Function:'\n",
    ")\n",
    "\n",
    "amplitude_slider = widgets.FloatSlider(\n",
    "    value=amplitude(),\n",
    "    min=0.1,\n",
    "    max=5.0,\n",
    "    step=0.1,\n",
    "    description='Amplitude:'\n",
    ")\n",
    "\n",
    "range_slider = widgets.FloatRangeSlider(\n",
    "    value=[x_min(), x_max()],\n",
    "    min=-20.0,\n",
    "    max=20.0,\n",
    "    step=1.0,\n",
    "    description='X Range:'\n",
    ")\n",
    "\n",
    "points_slider = widgets.IntSlider(\n",
    "    value=num_points(),\n",
    "    min=10,\n",
    "    max=500,\n",
    "    step=10,\n",
    "    description='Points:'\n",
    ")"
   ]
  },
  {
   "cell_type": "code",
   "execution_count": 9,
   "id": "44459b60",
   "metadata": {},
   "outputs": [],
   "source": [
    "# Define update handlers\n",
    "def on_function_change(change):\n",
    "    function_type.set(change['new'])\n",
    "    \n",
    "def on_amplitude_change(change):\n",
    "    amplitude.set(change['new'])\n",
    "    \n",
    "def on_range_change(change):\n",
    "    x_min.set(change['new'][0])\n",
    "    x_max.set(change['new'][1])\n",
    "    \n",
    "def on_points_change(change):\n",
    "    num_points.set(change['new'])\n",
    "\n",
    "# Register handlers\n",
    "function_dropdown.observe(on_function_change, names='value')\n",
    "amplitude_slider.observe(on_amplitude_change, names='value')\n",
    "range_slider.observe(on_range_change, names='value')\n",
    "points_slider.observe(on_points_change, names='value')"
   ]
  },
  {
   "cell_type": "code",
   "execution_count": 10,
   "id": "fd035fc4",
   "metadata": {},
   "outputs": [
    {
     "data": {
      "application/vnd.jupyter.widget-view+json": {
       "model_id": "d6d8cd3bab914de5baa86c12bb4b4e35",
       "version_major": 2,
       "version_minor": 0
      },
      "text/plain": [
       "VBox(children=(VBox(children=(HBox(children=(Dropdown(description='Function:', index=1, options=(('Sine', 'sin…"
      ]
     },
     "metadata": {},
     "output_type": "display_data"
    }
   ],
   "source": [
    "# Create a function to update the plot in Example 2\n",
    "def plot_widget_chart():\n",
    "    plot2_output.clear_output(wait=True)\n",
    "    \n",
    "    with plot2_output:\n",
    "        x, y = plot_data()\n",
    "        \n",
    "        fig, ax = plt.subplots(figsize=(10, 6))\n",
    "        ax.plot(x, y)\n",
    "        ax.set_title(f\"{function_type().capitalize()} Function with Amplitude {amplitude()}\")\n",
    "        ax.set_xlabel(\"x\")\n",
    "        ax.set_ylabel(\"y\")\n",
    "        ax.grid(True)\n",
    "        ax.set_ylim(-1.5 * amplitude(), 1.5 * amplitude())\n",
    "        plt.show()\n",
    "        \n",
    "        print(f\"Function: {function_type()}\")\n",
    "        print(f\"Range: [{x_min()}, {x_max()}]\")\n",
    "        print(f\"Number of points: {num_points()}\")\n",
    "\n",
    "# Display the control panel and output widget\n",
    "control_panel = widgets.VBox([\n",
    "    widgets.HBox([function_dropdown, amplitude_slider]),\n",
    "    widgets.HBox([range_slider, points_slider])\n",
    "])\n",
    "\n",
    "display(widgets.VBox([\n",
    "    control_panel,  # Controls at the top\n",
    "    plot2_output    # Plot output below\n",
    "]))\n",
    "\n",
    "# Create effect for reactive updates\n",
    "widget_chart_effect = Effect(plot_widget_chart)"
   ]
  },
  {
   "cell_type": "markdown",
   "id": "1a1faaf5",
   "metadata": {},
   "source": [
    "## Example 3: Reactive Data Analysis\n",
    "\n",
    "Let's create a reactive data analysis example with a real dataset:"
   ]
  },
  {
   "cell_type": "code",
   "execution_count": 11,
   "id": "277e9d3d",
   "metadata": {},
   "outputs": [
    {
     "data": {
      "application/vnd.microsoft.datawrangler.viewer.v0+json": {
       "columns": [
        {
         "name": "index",
         "rawType": "int64",
         "type": "integer"
        },
        {
         "name": "sepal_length",
         "rawType": "float64",
         "type": "float"
        },
        {
         "name": "sepal_width",
         "rawType": "float64",
         "type": "float"
        },
        {
         "name": "petal_length",
         "rawType": "float64",
         "type": "float"
        },
        {
         "name": "petal_width",
         "rawType": "float64",
         "type": "float"
        },
        {
         "name": "species",
         "rawType": "object",
         "type": "string"
        }
       ],
       "conversionMethod": "pd.DataFrame",
       "ref": "46f3bae0-0c74-4381-a138-f8b94474d78f",
       "rows": [
        [
         "0",
         "5.1",
         "3.5",
         "1.4",
         "0.2",
         "setosa"
        ],
        [
         "1",
         "4.9",
         "3.0",
         "1.4",
         "0.2",
         "setosa"
        ],
        [
         "2",
         "4.7",
         "3.2",
         "1.3",
         "0.2",
         "setosa"
        ],
        [
         "3",
         "4.6",
         "3.1",
         "1.5",
         "0.2",
         "setosa"
        ],
        [
         "4",
         "5.0",
         "3.6",
         "1.4",
         "0.2",
         "setosa"
        ]
       ],
       "shape": {
        "columns": 5,
        "rows": 5
       }
      },
      "text/html": [
       "<div>\n",
       "<style scoped>\n",
       "    .dataframe tbody tr th:only-of-type {\n",
       "        vertical-align: middle;\n",
       "    }\n",
       "\n",
       "    .dataframe tbody tr th {\n",
       "        vertical-align: top;\n",
       "    }\n",
       "\n",
       "    .dataframe thead th {\n",
       "        text-align: right;\n",
       "    }\n",
       "</style>\n",
       "<table border=\"1\" class=\"dataframe\">\n",
       "  <thead>\n",
       "    <tr style=\"text-align: right;\">\n",
       "      <th></th>\n",
       "      <th>sepal_length</th>\n",
       "      <th>sepal_width</th>\n",
       "      <th>petal_length</th>\n",
       "      <th>petal_width</th>\n",
       "      <th>species</th>\n",
       "    </tr>\n",
       "  </thead>\n",
       "  <tbody>\n",
       "    <tr>\n",
       "      <th>0</th>\n",
       "      <td>5.1</td>\n",
       "      <td>3.5</td>\n",
       "      <td>1.4</td>\n",
       "      <td>0.2</td>\n",
       "      <td>setosa</td>\n",
       "    </tr>\n",
       "    <tr>\n",
       "      <th>1</th>\n",
       "      <td>4.9</td>\n",
       "      <td>3.0</td>\n",
       "      <td>1.4</td>\n",
       "      <td>0.2</td>\n",
       "      <td>setosa</td>\n",
       "    </tr>\n",
       "    <tr>\n",
       "      <th>2</th>\n",
       "      <td>4.7</td>\n",
       "      <td>3.2</td>\n",
       "      <td>1.3</td>\n",
       "      <td>0.2</td>\n",
       "      <td>setosa</td>\n",
       "    </tr>\n",
       "    <tr>\n",
       "      <th>3</th>\n",
       "      <td>4.6</td>\n",
       "      <td>3.1</td>\n",
       "      <td>1.5</td>\n",
       "      <td>0.2</td>\n",
       "      <td>setosa</td>\n",
       "    </tr>\n",
       "    <tr>\n",
       "      <th>4</th>\n",
       "      <td>5.0</td>\n",
       "      <td>3.6</td>\n",
       "      <td>1.4</td>\n",
       "      <td>0.2</td>\n",
       "      <td>setosa</td>\n",
       "    </tr>\n",
       "  </tbody>\n",
       "</table>\n",
       "</div>"
      ],
      "text/plain": [
       "   sepal_length  sepal_width  petal_length  petal_width species\n",
       "0           5.1          3.5           1.4          0.2  setosa\n",
       "1           4.9          3.0           1.4          0.2  setosa\n",
       "2           4.7          3.2           1.3          0.2  setosa\n",
       "3           4.6          3.1           1.5          0.2  setosa\n",
       "4           5.0          3.6           1.4          0.2  setosa"
      ]
     },
     "execution_count": 11,
     "metadata": {},
     "output_type": "execute_result"
    }
   ],
   "source": [
    "import pandas as pd\n",
    "import seaborn as sns\n",
    "\n",
    "# Load the Iris dataset\n",
    "iris = pd.read_csv('https://raw.githubusercontent.com/mwaskom/seaborn-data/master/iris.csv')\n",
    "iris.head()"
   ]
  },
  {
   "cell_type": "code",
   "execution_count": 12,
   "id": "6dc4f4d1",
   "metadata": {},
   "outputs": [],
   "source": [
    "# Create reactive parameters for data exploration\n",
    "x_feature = Signal(\"sepal_length\")\n",
    "y_feature = Signal(\"sepal_width\")\n",
    "species_filter = Signal(\"all\")  # \"all\", \"setosa\", \"versicolor\", or \"virginica\"\n",
    "plot_type = Signal(\"scatter\")   # \"scatter\", \"boxplot\", or \"histogram\"\n",
    "\n",
    "# Create computed signal for filtered data\n",
    "def get_filtered_data():\n",
    "    if species_filter() == \"all\":\n",
    "        return iris\n",
    "    else:\n",
    "        return iris[iris.species == species_filter()]\n",
    "\n",
    "filtered_data = Computed(get_filtered_data)"
   ]
  },
  {
   "cell_type": "code",
   "execution_count": 13,
   "id": "8177c900",
   "metadata": {},
   "outputs": [],
   "source": [
    "# Create an output widget to contain our visualization\n",
    "from ipywidgets import Output\n",
    "# Set a fixed height to ensure the widget is visible in Jupyter\n",
    "output_widget = Output(layout={'height': '500px', 'border': '1px solid #ddd'})"
   ]
  },
  {
   "cell_type": "code",
   "execution_count": 14,
   "id": "06c174cd",
   "metadata": {},
   "outputs": [],
   "source": [
    "# Create reactive visualization that updates only inside the output widget\n",
    "def plot_data_viz():\n",
    "    # Clear only the output widget content, not the whole cell\n",
    "    output_widget.clear_output(wait=True)\n",
    "    \n",
    "    # Use the output widget context manager to restrict display to the widget\n",
    "    with output_widget:\n",
    "        data = filtered_data()\n",
    "        x = x_feature()\n",
    "        y = y_feature()\n",
    "        \n",
    "        fig, ax = plt.subplots(figsize=(10, 6))\n",
    "        \n",
    "        if plot_type() == \"scatter\":\n",
    "            sns.scatterplot(data=data, x=x, y=y, hue=\"species\", ax=ax)\n",
    "            plt.title(f\"Scatter Plot: {x} vs {y}\")\n",
    "        elif plot_type() == \"boxplot\":\n",
    "            sns.boxplot(data=data, y=x, x=\"species\", ax=ax)\n",
    "            plt.title(f\"Box Plot of {x} by Species\")\n",
    "        else:  # histogram\n",
    "            sns.histplot(data=data, x=x, hue=\"species\", kde=True, ax=ax)\n",
    "            plt.title(f\"Histogram of {x}\")\n",
    "        \n",
    "        plt.tight_layout()\n",
    "        plt.show()\n",
    "        \n",
    "        # Display summary statistics\n",
    "        print(f\"Dataset: Iris ({len(data)} records)\")\n",
    "        if species_filter() != \"all\":\n",
    "            print(f\"Filtered to species: {species_filter()}\")\n",
    "        \n",
    "        print(f\"\\nSummary Statistics for {x}:\")\n",
    "        display(data[x].describe())"
   ]
  },
  {
   "cell_type": "code",
   "execution_count": 15,
   "id": "7cd36cb3",
   "metadata": {},
   "outputs": [],
   "source": [
    "# Create widgets for data exploration\n",
    "feature_options = list(iris.select_dtypes(include='number').columns)\n",
    "species_options = [\"all\"] + list(iris.species.unique())\n",
    "plot_options = [\"scatter\", \"boxplot\", \"histogram\"]\n",
    "\n",
    "x_dropdown = widgets.Dropdown(\n",
    "    options=feature_options,\n",
    "    value=x_feature(),\n",
    "    description='X Feature:'\n",
    ")\n",
    "\n",
    "y_dropdown = widgets.Dropdown(\n",
    "    options=feature_options,\n",
    "    value=y_feature(),\n",
    "    description='Y Feature:'\n",
    ")\n",
    "\n",
    "species_dropdown = widgets.Dropdown(\n",
    "    options=species_options,\n",
    "    value=species_filter(),\n",
    "    description='Species:'\n",
    ")\n",
    "\n",
    "plot_dropdown = widgets.Dropdown(\n",
    "    options=plot_options,\n",
    "    value=plot_type(),\n",
    "    description='Plot Type:'\n",
    ")\n",
    "\n",
    "# Link widgets to signals\n",
    "x_dropdown.observe(lambda change: x_feature.set(change['new']), names='value')\n",
    "y_dropdown.observe(lambda change: y_feature.set(change['new']), names='value')\n",
    "species_dropdown.observe(lambda change: species_filter.set(change['new']), names='value')\n",
    "plot_dropdown.observe(lambda change: plot_type.set(change['new']), names='value')"
   ]
  },
  {
   "cell_type": "code",
   "execution_count": 16,
   "id": "856e9b73",
   "metadata": {},
   "outputs": [
    {
     "data": {
      "application/vnd.jupyter.widget-view+json": {
       "model_id": "2064c6ef5fa84745871c8790b40dba9c",
       "version_major": 2,
       "version_minor": 0
      },
      "text/plain": [
       "VBox(children=(VBox(children=(HBox(children=(Dropdown(description='X Feature:', options=('sepal_length', 'sepa…"
      ]
     },
     "metadata": {},
     "output_type": "display_data"
    }
   ],
   "source": [
    "# Display controls first, followed by the output widget\n",
    "controls = widgets.VBox([\n",
    "    widgets.HBox([x_dropdown, y_dropdown]),\n",
    "    widgets.HBox([species_dropdown, plot_dropdown])\n",
    "])\n",
    "\n",
    "# Create a layout with controls above, visualization below\n",
    "display(widgets.VBox([\n",
    "    controls,  # Control widgets stay fixed at the top\n",
    "    output_widget  # Visualization updates within this widget\n",
    "]))\n",
    "\n",
    "# Now create the reactive effect that will update automatically when signals change\n",
    "viz_effect = Effect(plot_data_viz)"
   ]
  },
  {
   "cell_type": "markdown",
   "id": "f6beb8c2",
   "metadata": {},
   "source": [
    "## Conclusion\n",
    "\n",
    "This notebook demonstrates how to use `reaktiv` to create reactive notebooks with automatic updates. The key benefits are:\n",
    "\n",
    "1. Automatic dependency tracking between data elements\n",
    "2. Efficient updates - only what needs to be recalculated is updated\n",
    "3. Clean integration with standard Jupyter widgets and visualization libraries\n",
    "4. Improved user experience for data exploration\n",
    "\n",
    "For more complex examples and documentation, visit the [reaktiv GitHub repository](https://github.com/buiapp/reaktiv)."
   ]
  },
  {
   "cell_type": "markdown",
   "id": "1258f035",
   "metadata": {},
   "source": [
    "## Troubleshooting Tips\n",
    "\n",
    "If you encounter any issues with reactive visualizations:\n",
    "\n",
    "1. **Jupyter vs VSCode**: This notebook is designed to work in both environments, but their widget rendering can differ slightly.\n",
    "2. **Widget Height**: If plots aren't visible, try increasing the height in the Output widget creation.\n",
    "3. **Manual Initialization**: For complex visualizations, calling the plot function manually once before creating the Effect can help.\n",
    "4. **Keep References**: Always keep references to Effects to prevent them from being garbage collected.\n",
    "\n",
    "Remember that when working with reactive notebooks, the traditional Jupyter cell execution model still applies underneath - reaktiv just adds automatic updates on top of it."
   ]
  }
 ],
 "metadata": {
  "kernelspec": {
   "display_name": "Python 3",
   "language": "python",
   "name": "python3"
  },
  "language_info": {
   "codemirror_mode": {
    "name": "ipython",
    "version": 3
   },
   "file_extension": ".py",
   "mimetype": "text/x-python",
   "name": "python",
   "nbconvert_exporter": "python",
   "pygments_lexer": "ipython3",
   "version": "3.12.8"
  }
 },
 "nbformat": 4,
 "nbformat_minor": 5
}
